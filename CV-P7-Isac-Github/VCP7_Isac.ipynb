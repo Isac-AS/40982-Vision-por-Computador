{
 "cells": [
  {
   "cell_type": "markdown",
   "metadata": {},
   "source": [
    "# 40982 - Visión por Computador - Práctica 7 - Entrenando un detector\n",
    "Isac Añor Santana"
   ]
  },
  {
   "cell_type": "markdown",
   "metadata": {},
   "source": [
    "## Detector de palmeras\n",
    "En esta práctica se realiza un entrenamiento personalizado de YOLOv7 para que detecte palmeras."
   ]
  },
  {
   "cell_type": "markdown",
   "metadata": {},
   "source": [
    "## Procedimiento\n",
    "\n",
    "### Obtención de un conjunto de datos o Dataset\n",
    "La obtención del Dataset la he hecho personalmente sacando fotos de palmeras que se encuentran en el Campus Universitario.\n",
    "\n",
    "### Anotación del conjunto de datos\n",
    "La anotación del [conjunto de datos](https://app.roboflow.com/vcp7/palm-tree-detection-0we3t) la he llevado a cabo usando la herramienta [Roboflow](https://app.roboflow.com/login). Antes de subir las imágenes a directamente a Roboflow, las redimensioné. Originalmente, tenían una dimensión de 3024 píxeles de ancho por 4032 de alto, lo que me pareció demasiado. En consecuencia fueron redimensionadas a 756x1008, igualmente, Roboflow posteriormente lleva a cabo un redimensionamiento a 640x640. El conjunto de datos original se encuentra en el directorio Datasets/Raw-Dataset, el redimensionnado en Datasets/Resized-Dataset y el anotado por Roboflow en Datasets/RoboflowPalmTreeAnotatedDataset. El dataset descargado de Roboflow cuenta con 452 imágenes para el conjunto de entrenamiento, 54 para el de validación y 27 para el de test.\n",
    "\n",
    "### Entrenamiento\n",
    "Tras crear el entorno virtual correspondiente y descargar yolov7, se mueven los directorios de entrenamiento, test y validación y se ejecuta el siguiente comando.\n",
    "\n",
    "`python train.py --device 0 --weights yolov7.pt --cfg cfg/training/yolov7.yaml --data data/data.yaml --hyp data/hyp.scratch.custom.yaml --workers 1 --batch-size 4 --epochs 200 --name yolov7-palmeras`\n",
    "\n",
    "En este caso, se ha puesto a entrenar durante unas dos horas. Al finalizar produce un fichero, best.pt, que contiene los pesos entrenados y se usará como parámetro posteriormente para realizar detecciones\n",
    "\n",
    "### Prueba del entrenamiento personalizado\n",
    "Para probar el entrenamiento se toman unas imágenes y videos grabados y se pasan por el detector. Las imágenes estarán bajo el directorio images/ y los vídeos en videos/. La detección se lleva a cabo en el resto del cuaderno. Los resultados se pueden ver bajo el directorio Results."
   ]
  },
  {
   "cell_type": "markdown",
   "metadata": {},
   "source": [
    "#### Paquetes necesarios"
   ]
  },
  {
   "cell_type": "code",
   "execution_count": 1,
   "metadata": {},
   "outputs": [],
   "source": [
    "import cv2\n",
    "import glob\n",
    "import os\n",
    "import numpy as np\n",
    "import matplotlib.pyplot as plt\n",
    "import shutil"
   ]
  },
  {
   "cell_type": "code",
   "execution_count": null,
   "metadata": {},
   "outputs": [],
   "source": [
    "# Verificación que cuda está disponible\n",
    "import torch\n",
    "print(torch.cuda.is_available())\n"
   ]
  },
  {
   "cell_type": "markdown",
   "metadata": {},
   "source": [
    "#### Detección en imágenes"
   ]
  },
  {
   "cell_type": "code",
   "execution_count": null,
   "metadata": {},
   "outputs": [],
   "source": [
    "!python yolov7/detect.py --weights best.pt --conf 0.50 --source ./images/ --save-txt --device 0\n"
   ]
  },
  {
   "cell_type": "markdown",
   "metadata": {},
   "source": [
    "#### Detección en vídeos"
   ]
  },
  {
   "cell_type": "code",
   "execution_count": null,
   "metadata": {},
   "outputs": [],
   "source": [
    "!python yolov7/detect.py --weights best.pt --conf 0.5 --source videos/ --device 0"
   ]
  },
  {
   "cell_type": "markdown",
   "metadata": {},
   "source": [
    "Por algún motivo desconocido, le da la vuelta a los vídeos así que toca volver a darles la vuelta. He usado esta entrada de [stackoverflow](https://stackoverflow.com/questions/67507275/rotate-video-180-with-opencv-python)."
   ]
  },
  {
   "cell_type": "code",
   "execution_count": 26,
   "metadata": {},
   "outputs": [],
   "source": [
    "def flip_video(input_file_path, output_file_path):\n",
    "    #that's my original video - the one that I want to rotate 180 degrees \n",
    "    cap = cv2.VideoCapture(input_file_path)\n",
    "        \n",
    "    frame_number = int(cap.get(cv2.CAP_PROP_FRAME_COUNT))\n",
    "\n",
    "    # Get width and height\n",
    "    frame_width = int(cap.get(cv2.CAP_PROP_FRAME_WIDTH))\n",
    "    frame_height = int(cap.get(cv2.CAP_PROP_FRAME_HEIGHT))\n",
    "\n",
    "    # here I'm trying to write the new rotated video\n",
    "    # Open the output video file before the loop, cv2.VideoWriter_fourcc(*\"mp4v\") = 0x7634706d\n",
    "    newvideoR = cv2.VideoWriter(output_file_path, cv2.VideoWriter_fourcc(*\"mp4v\"), 24, (frame_width, frame_height))\n",
    "        \n",
    "    # Original Frames\n",
    "    #frames = []\n",
    "    for i in range(frame_number):\n",
    "        ret, frame = cap.read()\n",
    "        #frames.append(frame)  # No need to append the original frames\n",
    "\n",
    "        #here's where I try to rotate the video \n",
    "        new = cv2.rotate(frame, cv2.ROTATE_180)\n",
    "        \n",
    "        #cv2.imshow('output', new)\n",
    "        #if cv2.waitKey(1) & 0xFF == ord('q'):\n",
    "        #    break\n",
    "\n",
    "        newvideoR.write(new)\n",
    "\n",
    "    newvideoR.release()\n",
    "    cap.release()"
   ]
  },
  {
   "cell_type": "code",
   "execution_count": 27,
   "metadata": {},
   "outputs": [],
   "source": [
    "for input_path in  glob.glob(\"runs\\detect\\exp4\\*\"):\n",
    "    output_path = \"Results\\\\Videos\\\\\" + os.path.basename(input_path)\n",
    "    flip_video(input_path, output_path)\n",
    "    "
   ]
  }
 ],
 "metadata": {
  "kernelspec": {
   "display_name": "Python 3.9.15 ('p7-yolov7')",
   "language": "python",
   "name": "python3"
  },
  "language_info": {
   "codemirror_mode": {
    "name": "ipython",
    "version": 3
   },
   "file_extension": ".py",
   "mimetype": "text/x-python",
   "name": "python",
   "nbconvert_exporter": "python",
   "pygments_lexer": "ipython3",
   "version": "3.9.15"
  },
  "orig_nbformat": 4,
  "vscode": {
   "interpreter": {
    "hash": "fd48d93f9137c97edc55766f1a22b73c4350251d3d45b6fbd9921f64f9b68f21"
   }
  }
 },
 "nbformat": 4,
 "nbformat_minor": 2
}
